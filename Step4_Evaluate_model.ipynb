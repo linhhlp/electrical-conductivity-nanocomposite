{
 "cells": [
  {
   "cell_type": "markdown",
   "id": "42eca9cf",
   "metadata": {},
   "source": [
    "# Evaluating Model\n",
    "\n",
    "## Extrapolation: Estimate higher wt (>25%)\n",
    "\n",
    "Training data only input up to 25% wt% of filler. The unknown range from 25 to 50% is extrapolated in this session."
   ]
  },
  {
   "cell_type": "code",
   "execution_count": 1,
   "id": "e0095174",
   "metadata": {},
   "outputs": [],
   "source": [
    "import numpy as np\n",
    "import pandas as pd \n",
    "import tensorflow as tf\n",
    "import matplotlib.pyplot as plt\n",
    "import seaborn as sns\n",
    "from   sklearn.model_selection import train_test_split\n",
    "from   sklearn.preprocessing import MinMaxScaler, StandardScaler\n",
    "# FUNCTIONS\n",
    "from functions import *"
   ]
  },
  {
   "cell_type": "markdown",
   "id": "54de32df",
   "metadata": {},
   "source": [
    "## Import data"
   ]
  },
  {
   "cell_type": "code",
   "execution_count": 2,
   "id": "ad28e330",
   "metadata": {
    "scrolled": true
   },
   "outputs": [
    {
     "data": {
      "text/html": [
       "<div>\n",
       "<style scoped>\n",
       "    .dataframe tbody tr th:only-of-type {\n",
       "        vertical-align: middle;\n",
       "    }\n",
       "\n",
       "    .dataframe tbody tr th {\n",
       "        vertical-align: top;\n",
       "    }\n",
       "\n",
       "    .dataframe thead th {\n",
       "        text-align: right;\n",
       "    }\n",
       "</style>\n",
       "<table border=\"1\" class=\"dataframe\">\n",
       "  <thead>\n",
       "    <tr style=\"text-align: right;\">\n",
       "      <th></th>\n",
       "      <th>polymer_1</th>\n",
       "      <th>filler_1</th>\n",
       "      <th>wt_l1</th>\n",
       "      <th>conductivity</th>\n",
       "    </tr>\n",
       "  </thead>\n",
       "  <tbody>\n",
       "    <tr>\n",
       "      <th>0</th>\n",
       "      <td>0</td>\n",
       "      <td>1</td>\n",
       "      <td>26.818297</td>\n",
       "      <td>708.533755</td>\n",
       "    </tr>\n",
       "    <tr>\n",
       "      <th>1</th>\n",
       "      <td>0</td>\n",
       "      <td>1</td>\n",
       "      <td>25.749656</td>\n",
       "      <td>652.784933</td>\n",
       "    </tr>\n",
       "    <tr>\n",
       "      <th>2</th>\n",
       "      <td>0</td>\n",
       "      <td>1</td>\n",
       "      <td>1.045467</td>\n",
       "      <td>0.714814</td>\n",
       "    </tr>\n",
       "    <tr>\n",
       "      <th>3</th>\n",
       "      <td>0</td>\n",
       "      <td>1</td>\n",
       "      <td>14.253655</td>\n",
       "      <td>197.505216</td>\n",
       "    </tr>\n",
       "    <tr>\n",
       "      <th>4</th>\n",
       "      <td>0</td>\n",
       "      <td>1</td>\n",
       "      <td>16.579815</td>\n",
       "      <td>268.298345</td>\n",
       "    </tr>\n",
       "  </tbody>\n",
       "</table>\n",
       "</div>"
      ],
      "text/plain": [
       "   polymer_1  filler_1      wt_l1  conductivity\n",
       "0          0         1  26.818297    708.533755\n",
       "1          0         1  25.749656    652.784933\n",
       "2          0         1   1.045467      0.714814\n",
       "3          0         1  14.253655    197.505216\n",
       "4          0         1  16.579815    268.298345"
      ]
     },
     "execution_count": 2,
     "metadata": {},
     "output_type": "execute_result"
    }
   ],
   "source": [
    "filename_alldata = \"data-evaluation/HDPE_SWCNT_data-set-8.csv\"\n",
    "alldata = pd.read_csv(filename_alldata, index_col=None, header=0)\n",
    "# Drop columns which are not used for now\n",
    "alldata_clean = alldata.drop(['polymer_p2', 'ratio_1_2','filler_2','wt_l2','owner','foaming'], axis=1)  # , inplace=True\n",
    "alldata_clean = mapStringToNum(alldata_clean)\n",
    "alldata_clean.head()"
   ]
  },
  {
   "cell_type": "markdown",
   "id": "62cb9268",
   "metadata": {},
   "source": [
    "## Loading saved data\n",
    "\n",
    "Loading saved model and scalers"
   ]
  },
  {
   "cell_type": "code",
   "execution_count": 3,
   "id": "bdd4698d",
   "metadata": {},
   "outputs": [],
   "source": [
    "model = tf.keras.models.load_model('saved/predictor-conductivity-model')\n",
    "\n",
    "from pickle import load\n",
    "X_scaler = load(open('saved/X_scaler.pkl', 'rb'))\n",
    "Y_scaler = load(open('saved/Y_scaler.pkl', 'rb'))"
   ]
  },
  {
   "cell_type": "markdown",
   "id": "ec53a98f",
   "metadata": {},
   "source": [
    "# Extrapolation: Estimate higher wt (>25%)"
   ]
  },
  {
   "cell_type": "code",
   "execution_count": 4,
   "id": "ecd94a38",
   "metadata": {},
   "outputs": [],
   "source": [
    "filename_unknowndata7 = \"data-evaluation/HDPE_SWCNT_data-set-7.csv\"\n",
    "unknowndata7 = pd.read_csv(filename_unknowndata7, index_col=None, header=0)\n",
    "#alldata['labels'] = alldata['polymer_1'] + \"-\" + alldata['filler_1']\n",
    "unknowndata7.drop(['polymer_p2', 'ratio_1_2','filler_2','wt_l2','owner','foaming'], axis=1, inplace=True)   #,'foaming'\n",
    "unknowndata7_clean = unknowndata7.copy()\n",
    "unknowndata7_clean = mapStringToNum(unknowndata7_clean)\n",
    "#unknowndata7_clean.head()"
   ]
  },
  {
   "cell_type": "code",
   "execution_count": 5,
   "id": "f2e8bd1c",
   "metadata": {},
   "outputs": [],
   "source": [
    "# Pull out columns for X (data to train with) and Y (value to predict)\n",
    "X_unknowndata7 = unknowndata7_clean.drop('conductivity', axis=1).values\n",
    "X_scaled_unknowndata7 = X_scaler.transform(X_unknowndata7)\n",
    "# Calculate predictions\n",
    "PredValSet_unknowndata7 = model.predict(X_scaled_unknowndata7)\n",
    "PredValSet_unknowndata72 = Y_scaler.inverse_transform(PredValSet_unknowndata7)"
   ]
  },
  {
   "cell_type": "code",
   "execution_count": 6,
   "id": "0f6b47d4",
   "metadata": {},
   "outputs": [
    {
     "data": {
      "image/png": "[encoded data removed]",
      "text/plain": [
       "<Figure size 1080x432 with 1 Axes>"
      ]
     },
     "metadata": {
      "needs_background": "light"
     },
     "output_type": "display_data"
    }
   ],
   "source": [
    "compdata = unknowndata7.copy()\n",
    "compdata['labels']    = compdata['polymer_1'] + \"-\" + compdata['filler_1'] + \"_predicted_unknown\"\n",
    "compdata['conductivity'] = PredValSet_unknowndata72\n",
    "\n",
    "alldata['labels']    = alldata['polymer_1'] + \"-\" + alldata['filler_1'] + \"_actual_data\"\n",
    "compdata = compdata.append(alldata, ignore_index = True)\n",
    "\n",
    "fig_dims = (15, 6)\n",
    "fig, ax = plt.subplots(figsize=fig_dims)\n",
    "plt.xlabel(\"weight fraction (%)\")\n",
    "plt.ylabel(\"conductivity (S/m)\")\n",
    "plt.yscale(\"log\")\n",
    "g = sns.scatterplot(data=compdata ,x=\"wt_l1\", y =\"conductivity\", hue=\"labels\" , ax = ax ,markers=[\"-\",\"x\"] );"
   ]
  },
  {
   "cell_type": "markdown",
   "id": "cc01e62a",
   "metadata": {},
   "source": [
    "# Conclusion\n",
    "\n",
    "## Results are acceptable\n",
    "The difference between prediction and experiment is within one order of magnitude, which is acceptable.\n",
    "\n",
    "## Issues\n",
    "There are a strange behaviour at range around 5%. \n",
    "\n",
    "However, our data (conductivity) of different fillers is highly divergent. The carbon nanotube has much higher in intrisic conductivity, leading CNT-based composite has much higher electrical conductivity than the GNP one. "
   ]
  },
  {
   "cell_type": "code",
   "execution_count": null,
   "id": "e687c3c5",
   "metadata": {},
   "outputs": [],
   "source": []
  }
 ],
 "metadata": {
  "kernelspec": {
   "display_name": "Python 3 (ipykernel)",
   "language": "python",
   "name": "python3"
  },
  "language_info": {
   "codemirror_mode": {
    "name": "ipython",
    "version": 3
   },
   "file_extension": ".py",
   "mimetype": "text/x-python",
   "name": "python",
   "nbconvert_exporter": "python",
   "pygments_lexer": "ipython3",
   "version": "3.9.10"
  }
 },
 "nbformat": 4,
 "nbformat_minor": 5
}
