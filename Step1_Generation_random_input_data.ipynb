{
 "cells": [
  {
   "cell_type": "markdown",
   "id": "f4ec9dd3",
   "metadata": {},
   "source": [
    "# Generating Data\n",
    "Firstly, we need to generate the data by using an (exponential) equation with noise. The data mimics the actual data acquired by experiment."
   ]
  },
  {
   "cell_type": "code",
   "execution_count": 1,
   "id": "d86663c5",
   "metadata": {},
   "outputs": [],
   "source": [
    "import pandas as pd\n",
    "import matplotlib.pyplot as plt\n",
    "import seaborn as sns\n",
    "import numpy as np"
   ]
  },
  {
   "cell_type": "markdown",
   "id": "62de3c75",
   "metadata": {},
   "source": [
    "## Functions"
   ]
  },
  {
   "cell_type": "code",
   "execution_count": 2,
   "id": "3a47dc2d",
   "metadata": {},
   "outputs": [],
   "source": [
    "# Percolation Threshold of Electrical Conductivity\n",
    "# equation  exponential percolation theory\n",
    "# sigma = sigma_not * ( p - pc  ) ^ t\n",
    "# sigma the electrical conductivity of the nanocomposite and p is the weight fraction\n",
    "# sigma_not, pc, t were fitting coefficients \n",
    "# t should be from 1.5 to 2.5; in 3D-system expected value = 2\n",
    "# pc in percentage (0 to 100%), expected value ~ 0.5 % (or 0.005 real number)\n",
    "def generateData(sigma_not, pc, t, noise, N = 1000, pmax = 25):\n",
    "    \"\"\"Generate the data by using an exponential equation with noise.\n",
    "    \n",
    "    Keyword arguments:\n",
    "    sigma_not, pc, t: are fitting coefficients (depending on specific polymers and fillers)\n",
    "    noise: maximum in percentage flucation from real value\n",
    "    N: number of data generated\n",
    "    pmax: Maximum in percent\n",
    "    \"\"\"\n",
    "    \n",
    "    p = np.random.uniform(float (pc), float (pmax), N)\n",
    "    p[0] = 1.0001  * p[0]  # force (p -pc) to not be 0 when 1st value pi = pc\n",
    "    sigma = sigma_not * np.float_power( (p -pc)/100.0 ,t )\n",
    "    # add noise\n",
    "    sigma_noise = sigma * (1+ ( 2*np.random.random(N) - 1)*(noise/100.) )\n",
    "\n",
    "    return p,sigma,sigma_noise\n",
    "\n",
    "# Use linear data for testing purpose which is easier for linear regression\n",
    "def generateDataLinear(sigma_not, pc, t, noise, N = 1000, pmax = 25):\n",
    "    \"\"\"Generate the data by using an linear equation with noise.\n",
    "    \n",
    "    Keyword arguments:\n",
    "    sigma_not, pc, t: are fitting coefficients (depending on specific polymers and fillers)\n",
    "    noise: maximum in percentage flucation from real value\n",
    "    N: number of data generated\n",
    "    pmax: Maximum in percent\n",
    "    \"\"\"\n",
    "    p = np.random.uniform(float (pc), float (pmax), N)\n",
    "    p[0] = 1.00001  * p[0]  # force (p -pc) to not be 0 when 1st value pi = pc\n",
    "    sigma = sigma_not * (np.random.randint(1,5)*p + pc)\n",
    "    # add noise\n",
    "    sigma_noise = sigma * (1+ ( 2*np.random.random(N) - 1)*(noise/100.) )\n",
    "\n",
    "    return p,sigma,sigma_noise"
   ]
  },
  {
   "cell_type": "markdown",
   "id": "09bcda2e",
   "metadata": {},
   "source": [
    "## Generating a sample"
   ]
  },
  {
   "cell_type": "code",
   "execution_count": 3,
   "id": "24331316",
   "metadata": {},
   "outputs": [
    {
     "data": {
      "text/html": [
       "<div>\n",
       "<style scoped>\n",
       "    .dataframe tbody tr th:only-of-type {\n",
       "        vertical-align: middle;\n",
       "    }\n",
       "\n",
       "    .dataframe tbody tr th {\n",
       "        vertical-align: top;\n",
       "    }\n",
       "\n",
       "    .dataframe thead th {\n",
       "        text-align: right;\n",
       "    }\n",
       "</style>\n",
       "<table border=\"1\" class=\"dataframe\">\n",
       "  <thead>\n",
       "    <tr style=\"text-align: right;\">\n",
       "      <th></th>\n",
       "      <th>p</th>\n",
       "      <th>sigma</th>\n",
       "      <th>sigma_noise</th>\n",
       "    </tr>\n",
       "  </thead>\n",
       "  <tbody>\n",
       "    <tr>\n",
       "      <th>0</th>\n",
       "      <td>11.270112</td>\n",
       "      <td>11.599530</td>\n",
       "      <td>6.819860</td>\n",
       "    </tr>\n",
       "    <tr>\n",
       "      <th>1</th>\n",
       "      <td>7.816142</td>\n",
       "      <td>5.352594</td>\n",
       "      <td>7.085615</td>\n",
       "    </tr>\n",
       "    <tr>\n",
       "      <th>2</th>\n",
       "      <td>5.229884</td>\n",
       "      <td>2.237180</td>\n",
       "      <td>2.247288</td>\n",
       "    </tr>\n",
       "    <tr>\n",
       "      <th>3</th>\n",
       "      <td>11.943493</td>\n",
       "      <td>13.095354</td>\n",
       "      <td>10.518177</td>\n",
       "    </tr>\n",
       "    <tr>\n",
       "      <th>4</th>\n",
       "      <td>12.042479</td>\n",
       "      <td>13.322881</td>\n",
       "      <td>8.736820</td>\n",
       "    </tr>\n",
       "    <tr>\n",
       "      <th>...</th>\n",
       "      <td>...</td>\n",
       "      <td>...</td>\n",
       "      <td>...</td>\n",
       "    </tr>\n",
       "    <tr>\n",
       "      <th>995</th>\n",
       "      <td>4.461023</td>\n",
       "      <td>1.568971</td>\n",
       "      <td>1.901665</td>\n",
       "    </tr>\n",
       "    <tr>\n",
       "      <th>996</th>\n",
       "      <td>0.532264</td>\n",
       "      <td>0.000104</td>\n",
       "      <td>0.000149</td>\n",
       "    </tr>\n",
       "    <tr>\n",
       "      <th>997</th>\n",
       "      <td>3.409139</td>\n",
       "      <td>0.846309</td>\n",
       "      <td>0.476632</td>\n",
       "    </tr>\n",
       "    <tr>\n",
       "      <th>998</th>\n",
       "      <td>10.485835</td>\n",
       "      <td>9.971690</td>\n",
       "      <td>6.079958</td>\n",
       "    </tr>\n",
       "    <tr>\n",
       "      <th>999</th>\n",
       "      <td>2.480778</td>\n",
       "      <td>0.392348</td>\n",
       "      <td>0.539909</td>\n",
       "    </tr>\n",
       "  </tbody>\n",
       "</table>\n",
       "<p>1000 rows × 3 columns</p>\n",
       "</div>"
      ],
      "text/plain": [
       "             p      sigma  sigma_noise\n",
       "0    11.270112  11.599530     6.819860\n",
       "1     7.816142   5.352594     7.085615\n",
       "2     5.229884   2.237180     2.247288\n",
       "3    11.943493  13.095354    10.518177\n",
       "4    12.042479  13.322881     8.736820\n",
       "..         ...        ...          ...\n",
       "995   4.461023   1.568971     1.901665\n",
       "996   0.532264   0.000104     0.000149\n",
       "997   3.409139   0.846309     0.476632\n",
       "998  10.485835   9.971690     6.079958\n",
       "999   2.480778   0.392348     0.539909\n",
       "\n",
       "[1000 rows x 3 columns]"
      ]
     },
     "execution_count": 3,
     "metadata": {},
     "output_type": "execute_result"
    }
   ],
   "source": [
    "sigma_not = 1000 # S/m\n",
    "pc        = 0.5 # %\n",
    "t         = 2   \n",
    "noise     = 50  # %\n",
    "p,sigma,sigma_noise = generateData(sigma_not, pc, t, noise)\n",
    "#print(p)\n",
    "#print(sigma)\n",
    "data = pd.DataFrame({'p':p,'sigma':sigma,'sigma_noise':sigma_noise})\n",
    "data"
   ]
  },
  {
   "cell_type": "markdown",
   "id": "fa107e11",
   "metadata": {},
   "source": [
    "## Plotting noised data vs original data"
   ]
  },
  {
   "cell_type": "code",
   "execution_count": 4,
   "id": "508987ff",
   "metadata": {},
   "outputs": [
    {
     "data": {
      "image/png": "[encoded data removed]",
      "text/plain": [
       "<Figure size 432x288 with 1 Axes>"
      ]
     },
     "metadata": {
      "needs_background": "light"
     },
     "output_type": "display_data"
    }
   ],
   "source": [
    "plt.plot(p, sigma_noise, marker='+',linestyle = 'None')\n",
    "plt.plot(p, sigma, marker='+',linestyle = 'None' )\n",
    "plt.yscale('log')\n",
    "plt.ylim(0.001,100)\n",
    "plt.legend([\"Noised sigma\",\"Original sigma\"])\n",
    "plt.show()\n"
   ]
  },
  {
   "cell_type": "markdown",
   "id": "2f62af52",
   "metadata": {},
   "source": [
    "# Generating data and Saving to files\n",
    "\n",
    "## Polymers:\n",
    "Including\n",
    "* HDPE: High Density Poly Ethylene - a very popular polymer\n",
    "* HDPE treated: to make filler mix well, and expect to increase conductivity\n",
    "\n",
    "## Fillers:\n",
    "Including\n",
    "* MWCNT: Multiwall Carbon Nanotube\n",
    "* SWCNT: Single Carbon Nanotube\n",
    "* GNP: Graphene Nanoplate\n",
    "\n",
    "## Future note:\n",
    "* Next version of program should predict complex cases where there are multiple polymers reinforced with different fillers\n",
    "\n",
    "## Columns in data table\n",
    "* polymer_1 = \"HDPE\" : First polymer\n",
    "* filler_1  = \"MWCNT\": First filler\n",
    "* wt_l2     = float  : Weight fraction of 1st filler\n",
    "* polymer_2 = \"\"     : Second polymer in the composite\n",
    "* ratio_1_2 = float  : If there is second polymer, what ratio between 2 polymers?\n",
    "* filler_2  = \"\"     : Second filler\n",
    "* wt_l2     = float  : Weight fraction of 2nd filler\n",
    "* foaming   = 1 or 0 : foaming or no foam (unfoamed or solid sample)\n",
    "* conductivity=float : Value of electrical conductivity\n",
    "* owner     = \"owner\": the sources or owner of data set"
   ]
  },
  {
   "cell_type": "markdown",
   "id": "e88c2f15",
   "metadata": {},
   "source": [
    "## Data set 1: HDPE & MWCNT"
   ]
  },
  {
   "cell_type": "code",
   "execution_count": 5,
   "id": "8cc9483e",
   "metadata": {},
   "outputs": [
    {
     "data": {
      "image/png": "[encoded data removed]",
      "text/plain": [
       "<Figure size 432x288 with 1 Axes>"
      ]
     },
     "metadata": {
      "needs_background": "light"
     },
     "output_type": "display_data"
    }
   ],
   "source": [
    "polymer_1 = \"HDPE\"\n",
    "filler_1  = \"MWCNT\"\n",
    "polymer_2 = \"\"\n",
    "ratio_1_2 = \"\"\n",
    "filler_2  = \"\"\n",
    "wt_l2     = \"\"\n",
    "foaming   = 0      # no foam\n",
    "owner     = \"data set 1\"\n",
    "filename  = \"data/\"\n",
    "sigma_not = 1000 # S/m\n",
    "pc        = 0.5 # %\n",
    "t         = 2   \n",
    "noise     = 50  # %\n",
    "# Generate data\n",
    "p,sigma,sigma_noise = generateData(sigma_not, pc, t, noise)\n",
    "# Save to file\n",
    "if polymer_2: filename += polymer_1+\"-\"+polymer_2\n",
    "else: filename += polymer_1\n",
    "filename += '_'\n",
    "if filler_2:  filename += filler_1+\"-\"+filler_2\n",
    "else: filename += filler_1\n",
    "filename += '_' + owner.replace(\" \",\"-\") + \".csv\"\n",
    "#print(filename)\n",
    "# Save to CSV files\n",
    "if not wt_l2: wt_l2 = p.size*[\"\"]\n",
    "data_full = pd.DataFrame( {'polymer_1' : p.size*[polymer_1],\n",
    "                           'polymer_p2': p.size*[polymer_2], \n",
    "                           'ratio_1_2' : p.size*[ratio_1_2],\n",
    "                           'filler_1'  : p.size*[filler_1],\n",
    "                           'wt_l1' : p,\n",
    "                           'filler_2' : p.size*[filler_2],\n",
    "                           'wt_l2' : wt_l2,\n",
    "                           'foaming' : p.size*[foaming],\n",
    "                           'conductivity':sigma_noise,  \n",
    "                           'owner':owner,\n",
    "                          } )\n",
    "data_full.to_csv(filename, index=None)\n",
    "\n",
    "#np.savetxt(filename, (p,sigma_noise) , delimiter=\",\")\n",
    "\n",
    "plt.plot(p, sigma_noise, marker='+',linestyle = 'None')\n",
    "plt.plot(p, sigma, marker='+',linestyle = 'None' )\n",
    "plt.yscale('log')\n",
    "plt.ylim(0.001,100)\n",
    "plt.legend([\"Noised sigma\",\"Original sigma\"])\n",
    "plt.show()\n"
   ]
  },
  {
   "cell_type": "markdown",
   "id": "79883b1e",
   "metadata": {},
   "source": [
    "## Data set 2: HDPE_treated & MWCNT\n",
    "Treated HDPE => better mix up => more uniform distribution of filler in polymer => higher conductivity"
   ]
  },
  {
   "cell_type": "code",
   "execution_count": 6,
   "id": "5c3b96ab",
   "metadata": {},
   "outputs": [
    {
     "data": {
      "image/png": "[encoded data removed]",
      "text/plain": [
       "<Figure size 432x288 with 1 Axes>"
      ]
     },
     "metadata": {
      "needs_background": "light"
     },
     "output_type": "display_data"
    }
   ],
   "source": [
    "polymer_1 = \"HDPEtreated\"\n",
    "filler_1  = \"MWCNT\"\n",
    "polymer_2 = \"\"\n",
    "ratio_1_2 = \"\"\n",
    "filler_2  = \"\"\n",
    "wt_l2     = \"\"\n",
    "foaming   = 0      # no foam\n",
    "owner     = \"data set 2\"\n",
    "filename  = \"data/\"\n",
    "\n",
    "sigma_not = 5000 # S/m\n",
    "pc        = 0.3 # %\n",
    "t         = 2   \n",
    "noise     = 20  # %\n",
    "# Generate data\n",
    "p,sigma,sigma_noise = generateData(sigma_not, pc, t, noise)\n",
    "# Save to file\n",
    "if polymer_2: filename += polymer_1+\"-\"+polymer_2\n",
    "else: filename += polymer_1\n",
    "filename += '_'\n",
    "if filler_2:  filename += filler_1+\"-\"+filler_2\n",
    "else: filename += filler_1\n",
    "filename += '_' + owner.replace(\" \",\"-\") + \".csv\"\n",
    "#print(filename)\n",
    "# Save to CSV files\n",
    "if not wt_l2: wt_l2 = p.size*[\"\"]\n",
    "data_full = pd.DataFrame( {'polymer_1' : p.size*[polymer_1],\n",
    "                           'polymer_p2': p.size*[polymer_2], \n",
    "                           'ratio_1_2' : p.size*[ratio_1_2],\n",
    "                           'filler_1'  : p.size*[filler_1],\n",
    "                           'wt_l1' : p,\n",
    "                           'filler_2' : p.size*[filler_2],\n",
    "                           'wt_l2' : wt_l2,\n",
    "                           'foaming' : p.size*[foaming],\n",
    "                           'conductivity':sigma_noise,  \n",
    "                           'owner':owner,\n",
    "                          } )\n",
    "data_full.to_csv(filename, index=None)\n",
    "\n",
    "#np.savetxt(filename, (p,sigma_noise) , delimiter=\",\")\n",
    "\n",
    "plt.plot(p, sigma_noise, marker='+',linestyle = 'None')\n",
    "plt.plot(p, sigma, marker='+',linestyle = 'None' )\n",
    "plt.yscale('log')\n",
    "plt.ylim(0.001,1000)\n",
    "plt.legend([\"Noised sigma\",\"Original sigma\"])\n",
    "plt.show()\n"
   ]
  },
  {
   "cell_type": "markdown",
   "id": "d17be79e",
   "metadata": {},
   "source": [
    "## Data set 3: HDPE & SWCNT"
   ]
  },
  {
   "cell_type": "code",
   "execution_count": 11,
   "id": "8fe95f08",
   "metadata": {},
   "outputs": [
    {
     "data": {
      "image/png": "[encoded data removed]",
      "text/plain": [
       "<Figure size 432x288 with 1 Axes>"
      ]
     },
     "metadata": {
      "needs_background": "light"
     },
     "output_type": "display_data"
    }
   ],
   "source": [
    "polymer_1 = \"HDPE\"\n",
    "filler_1  = \"SWCNT\"\n",
    "polymer_2 = \"\"\n",
    "ratio_1_2 = \"\"\n",
    "filler_2  = \"\"\n",
    "wt_l2     = \"\"\n",
    "foaming   = 0      # no foam\n",
    "owner     = \"data set 3\"\n",
    "filename  = \"data/\"\n",
    "\n",
    "sigma_not = 10000 # S/m\n",
    "pc        = 0.2 # %\n",
    "t         = 2   \n",
    "noise     = 80  # %\n",
    "# Generate data\n",
    "p,sigma,sigma_noise = generateData(sigma_not, pc, t, noise)\n",
    "# Save to file\n",
    "if polymer_2: filename += polymer_1+\"-\"+polymer_2\n",
    "else: filename += polymer_1\n",
    "filename += '_'\n",
    "if filler_2:  filename += filler_1+\"-\"+filler_2\n",
    "else: filename += filler_1\n",
    "filename += '_' + owner.replace(\" \",\"-\") + \".csv\"\n",
    "#print(filename)\n",
    "# Save to CSV files\n",
    "if not wt_l2: wt_l2 = p.size*[\"\"]\n",
    "data_full = pd.DataFrame( {'polymer_1' : p.size*[polymer_1],\n",
    "                           'polymer_p2': p.size*[polymer_2], \n",
    "                           'ratio_1_2' : p.size*[ratio_1_2],\n",
    "                           'filler_1'  : p.size*[filler_1],\n",
    "                           'wt_l1' : p,\n",
    "                           'filler_2' : p.size*[filler_2],\n",
    "                           'wt_l2' : wt_l2,\n",
    "                           'foaming' : p.size*[foaming],\n",
    "                           'conductivity':sigma_noise,  \n",
    "                           'owner':owner,\n",
    "                          } )\n",
    "data_full.to_csv(filename, index=None)\n",
    "\n",
    "#np.savetxt(filename, (p,sigma_noise) , delimiter=\",\")\n",
    "\n",
    "plt.plot(p, sigma_noise, marker='+',linestyle = 'None')\n",
    "plt.plot(p, sigma, marker='+',linestyle = 'None' )\n",
    "plt.yscale('log')\n",
    "plt.ylim(0.001,10000)\n",
    "plt.legend([\"Noised sigma\",\"Original sigma\"])\n",
    "plt.show()\n"
   ]
  },
  {
   "cell_type": "markdown",
   "id": "7ed7f073",
   "metadata": {},
   "source": [
    "## Data set 4: HDPE + GNP\n",
    "Note: Polymer is not treated => bad conductivity, high threshold (`pc`) to be conductive"
   ]
  },
  {
   "cell_type": "code",
   "execution_count": 8,
   "id": "3f02d71e",
   "metadata": {},
   "outputs": [
    {
     "data": {
      "image/png": "[encoded data removed]",
      "text/plain": [
       "<Figure size 432x288 with 1 Axes>"
      ]
     },
     "metadata": {
      "needs_background": "light"
     },
     "output_type": "display_data"
    }
   ],
   "source": [
    "polymer_1 = \"HDPE\"\n",
    "filler_1  = \"GNP\"\n",
    "polymer_2 = \"\"\n",
    "ratio_1_2 = \"\"\n",
    "filler_2  = \"\"\n",
    "wt_l2     = \"\"\n",
    "foaming   = 0      # no foam\n",
    "owner     = \"data set 4\"\n",
    "filename  = \"data/\"\n",
    "\n",
    "sigma_not = 10 # S/m\n",
    "pc        = 3 # %\n",
    "t         = 1.5   \n",
    "noise     = 80  # %\n",
    "# Generate data\n",
    "p,sigma,sigma_noise = generateData(sigma_not, pc, t, noise)\n",
    "# Save to file\n",
    "if polymer_2: filename += polymer_1+\"-\"+polymer_2\n",
    "else: filename += polymer_1\n",
    "filename += '_'\n",
    "if filler_2:  filename += filler_1+\"-\"+filler_2\n",
    "else: filename += filler_1\n",
    "filename += '_' + owner.replace(\" \",\"-\") + \".csv\"\n",
    "#print(filename)\n",
    "# Save to CSV files\n",
    "if not wt_l2: wt_l2 = p.size*[\"\"]\n",
    "data_full = pd.DataFrame( {'polymer_1' : p.size*[polymer_1],\n",
    "                           'polymer_p2': p.size*[polymer_2], \n",
    "                           'ratio_1_2' : p.size*[ratio_1_2],\n",
    "                           'filler_1'  : p.size*[filler_1],\n",
    "                           'wt_l1' : p,\n",
    "                           'filler_2' : p.size*[filler_2],\n",
    "                           'wt_l2' : wt_l2,\n",
    "                           'foaming' : p.size*[foaming],\n",
    "                           'conductivity':sigma_noise,  \n",
    "                           'owner':owner,\n",
    "                          } )\n",
    "data_full.to_csv(filename, index=None)\n",
    "\n",
    "#np.savetxt(filename, (p,sigma_noise) , delimiter=\",\")\n",
    "\n",
    "plt.plot(p, sigma_noise, marker='+',linestyle = 'None')\n",
    "plt.plot(p, sigma , marker='+',linestyle = 'None')\n",
    "plt.yscale('log')\n",
    "plt.ylim(0.0001,100)\n",
    "plt.legend([\"Noised sigma\",\"Original sigma\"])\n",
    "plt.show()\n"
   ]
  },
  {
   "cell_type": "markdown",
   "id": "a33e205b",
   "metadata": {},
   "source": [
    "## Data set 5: HDPE_treated + GNP\n",
    "Now polymer is treated => better conductivity, lower threshold"
   ]
  },
  {
   "cell_type": "code",
   "execution_count": 9,
   "id": "512ddbb7",
   "metadata": {},
   "outputs": [
    {
     "data": {
      "image/png": "[encoded data removed]",
      "text/plain": [
       "<Figure size 432x288 with 1 Axes>"
      ]
     },
     "metadata": {
      "needs_background": "light"
     },
     "output_type": "display_data"
    }
   ],
   "source": [
    "polymer_1 = \"HDPEtreated\"\n",
    "filler_1  = \"GNP\"\n",
    "polymer_2 = \"\"\n",
    "ratio_1_2 = \"\"\n",
    "filler_2  = \"\"\n",
    "wt_l2     = \"\"\n",
    "foaming   = 0      # no foam\n",
    "owner     = \"data set 5\"\n",
    "filename  = \"data/\"\n",
    "\n",
    "sigma_not = 100 # S/m\n",
    "pc        = 1 # %\n",
    "t         = 1.5   \n",
    "noise     = 50  # %\n",
    "# Generate data\n",
    "p,sigma,sigma_noise = generateData(sigma_not, pc, t, noise)\n",
    "# Save to file\n",
    "if polymer_2: filename += polymer_1+\"-\"+polymer_2\n",
    "else: filename += polymer_1\n",
    "filename += '_'\n",
    "if filler_2:  filename += filler_1+\"-\"+filler_2\n",
    "else: filename += filler_1\n",
    "filename += '_' + owner.replace(\" \",\"-\") + \".csv\"\n",
    "#print(filename)\n",
    "# Save to CSV files\n",
    "if not wt_l2: wt_l2 = p.size*[\"\"]\n",
    "data_full = pd.DataFrame( {'polymer_1' : p.size*[polymer_1],\n",
    "                           'polymer_p2': p.size*[polymer_2], \n",
    "                           'ratio_1_2' : p.size*[ratio_1_2],\n",
    "                           'filler_1'  : p.size*[filler_1],\n",
    "                           'wt_l1' : p,\n",
    "                           'filler_2' : p.size*[filler_2],\n",
    "                           'wt_l2' : wt_l2,\n",
    "                           'foaming' : p.size*[foaming],\n",
    "                           'conductivity':sigma_noise,  \n",
    "                           'owner':owner,\n",
    "                          } )\n",
    "data_full.to_csv(filename, index=None)\n",
    "\n",
    "#np.savetxt(filename, (p,sigma_noise) , delimiter=\",\")\n",
    "\n",
    "plt.plot(p, sigma_noise, marker='+',linestyle = 'None')\n",
    "plt.plot(p, sigma, marker='+',linestyle = 'None' )\n",
    "plt.yscale('log')\n",
    "plt.ylim(0.001,100)\n",
    "plt.legend([\"Noised sigma\",\"Original sigma\"])\n",
    "plt.show()\n"
   ]
  },
  {
   "cell_type": "code",
   "execution_count": null,
   "id": "264b9563",
   "metadata": {},
   "outputs": [],
   "source": []
  },
  {
   "cell_type": "code",
   "execution_count": null,
   "id": "718d82ba",
   "metadata": {},
   "outputs": [],
   "source": []
  },
  {
   "cell_type": "code",
   "execution_count": null,
   "id": "07985d9a",
   "metadata": {},
   "outputs": [],
   "source": []
  },
  {
   "cell_type": "markdown",
   "id": "a770867c",
   "metadata": {},
   "source": [
    "# Import ALLs into ONE and save a new file"
   ]
  },
  {
   "cell_type": "code",
   "execution_count": 10,
   "id": "915549ec",
   "metadata": {},
   "outputs": [
    {
     "name": "stdout",
     "output_type": "stream",
     "text": [
      "data\\HDPEtreated_GNP_data-set-5.csv\n",
      "data\\HDPEtreated_MWCNT_data-set-2.csv\n",
      "data\\HDPE_GNP_data-set-4.csv\n",
      "data\\HDPE_MWCNT_data-set-1.csv\n",
      "data\\HDPE_SWCNT_data-set-3.csv\n"
     ]
    }
   ],
   "source": [
    "import glob\n",
    "import os\n",
    "\n",
    "path = 'data/' # use your path\n",
    "all_files = glob.glob(path + \"*.csv\")\n",
    "filename_alldata = \"_nanocomposite_data.csv\"\n",
    "li = []\n",
    "\n",
    "for filename in all_files:\n",
    "    head, tail = os.path.split(filename)\n",
    "    if tail  == filename_alldata: continue;\n",
    "    print(filename)\n",
    "    df = pd.read_csv(filename, index_col=None, header=0)\n",
    "    li.append(df)\n",
    "\n",
    "alldata = pd.concat(li, axis=0, ignore_index=True)\n",
    "alldata.to_csv(path + filename_alldata, index=None)"
   ]
  }
 ],
 "metadata": {
  "kernelspec": {
   "display_name": "Python 3 (ipykernel)",
   "language": "python",
   "name": "python3"
  },
  "language_info": {
   "codemirror_mode": {
    "name": "ipython",
    "version": 3
   },
   "file_extension": ".py",
   "mimetype": "text/x-python",
   "name": "python",
   "nbconvert_exporter": "python",
   "pygments_lexer": "ipython3",
   "version": "3.9.10"
  }
 },
 "nbformat": 4,
 "nbformat_minor": 5
}
